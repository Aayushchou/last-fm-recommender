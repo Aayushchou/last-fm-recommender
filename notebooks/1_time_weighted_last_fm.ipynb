{
 "cells": [
  {
   "cell_type": "markdown",
   "metadata": {},
   "source": [
    "# 1. LAST-FM: Time Weighted ALS Recommender\n",
    "\n",
    "This notebook implements a simple ALS recommender based on the LastFM user listening dataset. It uses spark and is written in Scala. Minimal data cleaning/pre-processing is performed to provide a baseline model. "
   ]
  },
  {
   "cell_type": "markdown",
   "metadata": {},
   "source": [
    "## 1.1 Imports and set up \n",
    "\n",
    "Key libraries are imported, the spark session is initialised and the listening data is loaded in. "
   ]
  },
  {
   "cell_type": "code",
   "execution_count": 1,
   "metadata": {},
   "outputs": [
    {
     "data": {
      "text/plain": [
       "\u001b[32mimport \u001b[39m\u001b[36m$ivy.$                                   // Or use any other 2.x version here\u001b[39m"
      ]
     },
     "execution_count": 1,
     "metadata": {},
     "output_type": "execute_result"
    }
   ],
   "source": [
    "import $ivy.`org.apache.spark::spark-sql:3.0.0` // Or use any other 2.x version here"
   ]
  },
  {
   "cell_type": "code",
   "execution_count": 2,
   "metadata": {},
   "outputs": [
    {
     "data": {
      "text/plain": [
       "\u001b[32mimport \u001b[39m\u001b[36m$ivy.$                                    \u001b[39m"
      ]
     },
     "execution_count": 2,
     "metadata": {},
     "output_type": "execute_result"
    }
   ],
   "source": [
    "import $ivy.`org.apache.spark::spark-mllib:3.0.0`"
   ]
  },
  {
   "cell_type": "code",
   "execution_count": 3,
   "metadata": {},
   "outputs": [
    {
     "data": {
      "text/plain": [
       "\u001b[32mimport \u001b[39m\u001b[36morg.apache.spark.sql.SparkSession\n",
       "\u001b[39m\n",
       "\u001b[32mimport \u001b[39m\u001b[36morg.apache.spark.ml.feature.{StringIndexer,IndexToString}\n",
       "\u001b[39m\n",
       "\u001b[32mimport \u001b[39m\u001b[36morg.apache.spark.ml.Pipeline\n",
       "\u001b[39m\n",
       "\u001b[32mimport \u001b[39m\u001b[36morg.apache.spark.ml.recommendation.ALS\n",
       "\u001b[39m\n",
       "\u001b[32mimport \u001b[39m\u001b[36morg.apache.spark.ml.evaluation.RegressionEvaluator\n",
       "\u001b[39m\n",
       "\u001b[32mimport \u001b[39m\u001b[36morg.apache.spark.mllib.evaluation.{RankingMetrics, RegressionMetrics}\n",
       "\u001b[39m\n",
       "\u001b[32mimport \u001b[39m\u001b[36morg.apache.spark.ml.feature.RobustScaler\n",
       "\u001b[39m\n",
       "\u001b[32mimport \u001b[39m\u001b[36morg.apache.spark.ml.feature.VectorAssembler\n",
       "\u001b[39m\n",
       "\u001b[32mimport \u001b[39m\u001b[36morg.apache.spark.ml.functions.vector_to_array\n",
       "\u001b[39m\n",
       "\u001b[32mimport \u001b[39m\u001b[36morg.apache.spark.sql.types._\n",
       "\u001b[39m\n",
       "\u001b[32mimport \u001b[39m\u001b[36morg.apache.spark.sql.functions._\n",
       "\u001b[39m\n",
       "\u001b[32mimport \u001b[39m\u001b[36morg.apache.spark.sql._\u001b[39m"
      ]
     },
     "execution_count": 3,
     "metadata": {},
     "output_type": "execute_result"
    }
   ],
   "source": [
    "import org.apache.spark.sql.SparkSession\n",
    "import org.apache.spark.ml.feature.{StringIndexer,IndexToString}\n",
    "import org.apache.spark.ml.Pipeline\n",
    "import org.apache.spark.ml.recommendation.ALS\n",
    "import org.apache.spark.ml.evaluation.RegressionEvaluator\n",
    "import org.apache.spark.mllib.evaluation.{RankingMetrics, RegressionMetrics}\n",
    "import org.apache.spark.ml.feature.RobustScaler\n",
    "import org.apache.spark.ml.feature.VectorAssembler\n",
    "import org.apache.spark.ml.functions.vector_to_array\n",
    "import org.apache.spark.sql.types._\n",
    "import org.apache.spark.sql.functions._\n",
    "import org.apache.spark.sql._"
   ]
  },
  {
   "cell_type": "code",
   "execution_count": 5,
   "metadata": {},
   "outputs": [
    {
     "name": "stdout",
     "output_type": "stream",
     "text": [
      "Loading spark-stubs\n",
      "Getting spark JARs\n",
      "Creating SparkSession\n"
     ]
    },
    {
     "name": "stderr",
     "output_type": "stream",
     "text": [
      "Using Spark's default log4j profile: org/apache/spark/log4j-defaults.properties\n"
     ]
    },
    {
     "data": {
      "text/html": [
       "<a target=\"_blank\" href=\"http://192.168.1.225:4040\">Spark UI</a>"
      ]
     },
     "metadata": {},
     "output_type": "display_data"
    },
    {
     "data": {
      "text/plain": [
       "\u001b[32mimport \u001b[39m\u001b[36morg.apache.log4j.{Level, Logger}\n",
       "\u001b[39m\n",
       "\u001b[36mspark\u001b[39m: \u001b[32mSparkSession\u001b[39m = org.apache.spark.sql.SparkSession@4391f09a"
      ]
     },
     "execution_count": 5,
     "metadata": {},
     "output_type": "execute_result"
    }
   ],
   "source": [
    "import org.apache.log4j.{Level, Logger}\n",
    "Logger.getLogger(\"org\").setLevel(Level.OFF)\n",
    "\n",
    "\n",
    "\n",
    "val spark = {\n",
    "  NotebookSparkSession.builder()\n",
    "    .master(\"local[*]\")\n",
    "    .appName(\"lastfm\")\n",
    "    .getOrCreate()\n",
    "}"
   ]
  },
  {
   "cell_type": "code",
   "execution_count": 6,
   "metadata": {},
   "outputs": [
    {
     "data": {
      "text/html": [
       "<div class=\"jp-RenderedText\">\n",
       "<pre><code><span style=\"color: rgb(0, 187, 187)\"><span class=\"ansi-cyan-fg\">data_path</span></span>: <span style=\"color: rgb(0, 187, 0)\"><span class=\"ansi-green-fg\">String</span></span> = <span style=\"color: rgb(0, 187, 0)\"><span class=\"ansi-green-fg\">&quot;../resources/lastfm-dataset-1K/userid-timestamp-artid-artname-traid-traname.tsv&quot;</span></span></code></pre>\n",
       "</div>"
      ],
      "text/plain": [
       "\u001b[36mdata_path\u001b[39m: \u001b[32mString\u001b[39m = \u001b[32m\"../resources/lastfm-dataset-1K/userid-timestamp-artid-artname-traid-traname.tsv\"\u001b[39m"
      ]
     },
     "metadata": {},
     "output_type": "display_data"
    }
   ],
   "source": [
    "// path to last-fm dataset. Can be downloaded here: http://millionsongdataset.com/lastfm/\n",
    "var data_path:String = \"../resources/lastfm-dataset-1K/userid-timestamp-artid-artname-traid-traname.tsv\""
   ]
  },
  {
   "cell_type": "code",
   "execution_count": 7,
   "metadata": {},
   "outputs": [
    {
     "data": {
      "text/plain": [
       "\u001b[36mschema\u001b[39m: \u001b[32mStructType\u001b[39m = \u001b[33mStructType\u001b[39m(\n",
       "  \u001b[33mStructField\u001b[39m(\u001b[32m\"user_id\"\u001b[39m, StringType, true, {}),\n",
       "  \u001b[33mStructField\u001b[39m(\u001b[32m\"timestamp\"\u001b[39m, DateType, true, {}),\n",
       "  \u001b[33mStructField\u001b[39m(\u001b[32m\"artist_id\"\u001b[39m, StringType, true, {}),\n",
       "  \u001b[33mStructField\u001b[39m(\u001b[32m\"artist_name\"\u001b[39m, StringType, true, {}),\n",
       "  \u001b[33mStructField\u001b[39m(\u001b[32m\"track_id\"\u001b[39m, StringType, true, {}),\n",
       "  \u001b[33mStructField\u001b[39m(\u001b[32m\"track_name\"\u001b[39m, StringType, true, {})\n",
       ")"
      ]
     },
     "execution_count": 7,
     "metadata": {},
     "output_type": "execute_result"
    }
   ],
   "source": [
    "// schema defined below to set column names and types. \n",
    "val schema = new StructType()\n",
    "            .add(\"user_id\", StringType, true)\n",
    "            .add(\"timestamp\", DateType, true)\n",
    "            .add(\"artist_id\", StringType, true)\n",
    "            .add(\"artist_name\", StringType, true)\n",
    "            .add(\"track_id\", StringType, true)\n",
    "            .add(\"track_name\", StringType, true)"
   ]
  },
  {
   "cell_type": "code",
   "execution_count": 8,
   "metadata": {},
   "outputs": [
    {
     "data": {
      "text/html": [
       "<script>\n",
       "var comm = Jupyter.notebook.kernel.comm_manager.new_comm('cancel-stage-fc27466e-7f2e-4f4d-8df6-936f417e1506', {});\n",
       "\n",
       "function cancelStage(stageId) {\n",
       "  console.log('Cancelling stage ' + stageId);\n",
       "  comm.send({ 'stageId': stageId });\n",
       "}\n",
       "</script>\n",
       "          "
      ]
     },
     "metadata": {},
     "output_type": "display_data"
    },
    {
     "data": {
      "text/html": [
       "<div>\n",
       "  <span style=\"float: left;\">take at cmd3.sc:4</span>\n",
       "</div>\n"
      ]
     },
     "metadata": {},
     "output_type": "display_data"
    },
    {
     "data": {
      "text/html": [
       "<div class=\"progress\">\n",
       "  <div class=\"progress-bar\" role=\"progressbar\" style=\"background-color: blue; width: 100%; word-wrap: normal; white-space: nowrap; text-align: center; color: white\" aria-valuenow=\"100\" aria-valuemin=\"0\" aria-valuemax=\"100\">\n",
       "    1 / 1\n",
       "  </div>\n",
       "  <div class=\"progress-bar\" role=\"progressbar\" style=\"background-color: red; width: 0%\" aria-valuenow=\"0\" aria-valuemin=\"0\" aria-valuemax=\"100\"></div>\n",
       "</div>\n"
      ]
     },
     "metadata": {},
     "output_type": "display_data"
    },
    {
     "data": {
      "text/html": [
       " <table>\n",
       "                <tr>\n",
       "                 <th>user_id</th><th>timestamp</th><th>artist_id</th><th>artist_name</th><th>track_id</th><th>track_name</th>\n",
       "                </tr>\n",
       "                <tr><td>user_000001</td><td>2009-05-04</td><td>f1b1cf71-bd35-4e99-8624-24a6e15f133a</td><td>Deep Dish</td><td>null</td><td>Fuck Me Im Famous (Pacha Ibiza)-09-28-2007</td></tr><tr><td>user_000001</td><td>2009-05-04</td><td>a7f7df4a-77d8-4f12-8acd-5c60c93f4de8</td><td>坂本龍一</td><td>null</td><td>Composition 0919 (Live_2009_4_15)</td></tr><tr><td>user_000001</td><td>2009-05-04</td><td>a7f7df4a-77d8-4f12-8acd-5c60c93f4de8</td><td>坂本龍一</td><td>null</td><td>Mc2 (Live_2009_4_15)</td></tr><tr><td>user_000001</td><td>2009-05-04</td><td>a7f7df4a-77d8-4f12-8acd-5c60c93f4de8</td><td>坂本龍一</td><td>null</td><td>Hibari (Live_2009_4_15)</td></tr><tr><td>user_000001</td><td>2009-05-04</td><td>a7f7df4a-77d8-4f12-8acd-5c60c93f4de8</td><td>坂本龍一</td><td>null</td><td>Mc1 (Live_2009_4_15)</td></tr><tr><td>user_000001</td><td>2009-05-04</td><td>a7f7df4a-77d8-4f12-8acd-5c60c93f4de8</td><td>坂本龍一</td><td>null</td><td>To Stanford (Live_2009_4_15)</td></tr><tr><td>user_000001</td><td>2009-05-04</td><td>a7f7df4a-77d8-4f12-8acd-5c60c93f4de8</td><td>坂本龍一</td><td>null</td><td>Improvisation (Live_2009_4_15)</td></tr><tr><td>user_000001</td><td>2009-05-04</td><td>a7f7df4a-77d8-4f12-8acd-5c60c93f4de8</td><td>坂本龍一</td><td>null</td><td>Glacier (Live_2009_4_15)</td></tr><tr><td>user_000001</td><td>2009-05-04</td><td>a7f7df4a-77d8-4f12-8acd-5c60c93f4de8</td><td>坂本龍一</td><td>null</td><td>Parolibre (Live_2009_4_15)</td></tr><tr><td>user_000001</td><td>2009-05-04</td><td>a7f7df4a-77d8-4f12-8acd-5c60c93f4de8</td><td>坂本龍一</td><td>null</td><td>Bibo No Aozora (Live_2009_4_15)</td></tr><tr><td>user_000001</td><td>2009-05-04</td><td>a7f7df4a-77d8-4f12-8acd-5c60c93f4de8</td><td>坂本龍一</td><td>f7c1f8f8-b935-45ed-8fc8-7def69d92a10</td><td>The Last Emperor (Theme)</td></tr><tr><td>user_000001</td><td>2009-05-04</td><td>a7f7df4a-77d8-4f12-8acd-5c60c93f4de8</td><td>坂本龍一</td><td>null</td><td>Happyend (Live_2009_4_15)</td></tr><tr><td>user_000001</td><td>2009-05-04</td><td>a7f7df4a-77d8-4f12-8acd-5c60c93f4de8</td><td>坂本龍一</td><td>475d4e50-cebb-4cd0-8cd4-c3df97987962</td><td>Tibetan Dance (Version)</td></tr><tr><td>user_000001</td><td>2009-05-04</td><td>a7f7df4a-77d8-4f12-8acd-5c60c93f4de8</td><td>坂本龍一</td><td>null</td><td>Behind The Mask (Live_2009_4_15)</td></tr><tr><td>user_000001</td><td>2009-05-03</td><td>ba2f4f3b-0293-4bc8-bb94-2f73b5207343</td><td>Underworld</td><td>dc394163-2b78-4b56-94e4-658597a29ef8</td><td>Boy, Boy, Boy (Switch Remix)</td></tr><tr><td>user_000001</td><td>2009-05-03</td><td>ba2f4f3b-0293-4bc8-bb94-2f73b5207343</td><td>Underworld</td><td>340d9a0b-9a43-4098-b116-9f79811bd508</td><td>Crocodile (Innervisions Orchestra Mix)</td></tr><tr><td>user_000001</td><td>2009-05-03</td><td>a16e47f5-aa54-47fe-87e4-bb8af91a9fdd</td><td>Ennio Morricone</td><td>0b04407b-f517-4e00-9e6a-494795efc73e</td><td>Ninna Nanna In Blu (Raw Deal Remix)</td></tr><tr><td>user_000001</td><td>2009-05-03</td><td>463a94f1-2713-40b1-9c88-dcc9c0170cae</td><td>Minus 8</td><td>4e78efc4-e545-47af-9617-05ff816d86e2</td><td>Elysian Fields</td></tr><tr><td>user_000001</td><td>2009-05-03</td><td>ad0811ea-e213-451d-b22f-fa1a7f9e0226</td><td>Beanfield</td><td>fb51d2c4-cc69-4128-92f5-77ec38d66859</td><td>Planetary Deadlock</td></tr><tr><td>user_000001</td><td>2009-05-03</td><td>309e2dfc-678e-4d09-a7a4-8eab9525b669</td><td>Dj Linus</td><td>4277434f-e3c2-41ae-9ce3-23fd157f9347</td><td>Good Morning Love Coffee Is Ready</td></tr>\n",
       "            </table>\n",
       "        "
      ]
     },
     "metadata": {},
     "output_type": "display_data"
    },
    {
     "data": {
      "text/plain": [
       "\u001b[36mlistener_data\u001b[39m: \u001b[32mDataFrame\u001b[39m = [user_id: string, timestamp: date ... 4 more fields]"
      ]
     },
     "execution_count": 8,
     "metadata": {},
     "output_type": "execute_result"
    }
   ],
   "source": [
    "// read in data\n",
    "val listener_data = spark\n",
    "                    .read\n",
    "                    .options(Map(\n",
    "                      \"header\" -> \"false\",\n",
    "                      \"dateFormat\" -> \"yyyy-MM-ddTHH:mm:ssZ\"\n",
    "                    ))\n",
    "                    .schema(schema)\n",
    "                    .format(\"org.apache.spark.sql.execution.datasources.csv.CSVFileFormat\")\n",
    "                    .option(\"sep\", \"\\t\")\n",
    "                    .load(data_path)\n",
    "listener_data.showHTML(20, 200)"
   ]
  },
  {
   "cell_type": "code",
   "execution_count": 9,
   "metadata": {},
   "outputs": [
    {
     "data": {
      "text/html": [
       "<div>\n",
       "  <span style=\"float: left;\">collectAsList at cmd8.sc:4</span>\n",
       "</div>\n"
      ]
     },
     "metadata": {},
     "output_type": "display_data"
    },
    {
     "data": {
      "text/html": [
       "<div class=\"progress\">\n",
       "  <div class=\"progress-bar\" role=\"progressbar\" style=\"background-color: blue; width: 100%; word-wrap: normal; white-space: nowrap; text-align: center; color: white\" aria-valuenow=\"100\" aria-valuemin=\"0\" aria-valuemax=\"100\">\n",
       "    19 / 19\n",
       "  </div>\n",
       "  <div class=\"progress-bar\" role=\"progressbar\" style=\"background-color: red; width: 0%\" aria-valuenow=\"0\" aria-valuemin=\"0\" aria-valuemax=\"100\"></div>\n",
       "</div>\n"
      ]
     },
     "metadata": {},
     "output_type": "display_data"
    },
    {
     "data": {
      "text/html": [
       "<div>\n",
       "  <span style=\"float: left;\">collectAsList at cmd8.sc:4</span>\n",
       "</div>\n"
      ]
     },
     "metadata": {},
     "output_type": "display_data"
    },
    {
     "data": {
      "text/html": [
       "<div class=\"progress\">\n",
       "  <div class=\"progress-bar\" role=\"progressbar\" style=\"background-color: blue; width: 100%; word-wrap: normal; white-space: nowrap; text-align: center; color: white\" aria-valuenow=\"100\" aria-valuemin=\"0\" aria-valuemax=\"100\">\n",
       "    1 / 1\n",
       "  </div>\n",
       "  <div class=\"progress-bar\" role=\"progressbar\" style=\"background-color: red; width: 0%\" aria-valuenow=\"0\" aria-valuemin=\"0\" aria-valuemax=\"100\"></div>\n",
       "</div>\n"
      ]
     },
     "metadata": {},
     "output_type": "display_data"
    },
    {
     "data": {
      "text/plain": [
       "\u001b[32mimport \u001b[39m\u001b[36mspark.implicits._\n",
       "\n",
       "\u001b[39m\n",
       "\u001b[36mdf\u001b[39m: \u001b[32mDataFrame\u001b[39m = [user_id: string, timestamp: date ... 4 more fields]\n",
       "\u001b[36mmax_date\u001b[39m: \u001b[32mObject\u001b[39m = 2013-09-29"
      ]
     },
     "execution_count": 9,
     "metadata": {},
     "output_type": "execute_result"
    }
   ],
   "source": [
    "import spark.implicits._\n",
    "\n",
    "val df = listener_data.na.drop()\n",
    "val max_date = df.agg(max(\"timestamp\")).map(_.getDate(0)).collectAsList().toArray()(0)"
   ]
  },
  {
   "cell_type": "code",
   "execution_count": 13,
   "metadata": {},
   "outputs": [
    {
     "data": {
      "text/html": [
       "<div>\n",
       "  <span style=\"float: left;\">take at cmd3.sc:4</span>\n",
       "</div>\n"
      ]
     },
     "metadata": {},
     "output_type": "display_data"
    },
    {
     "data": {
      "text/html": [
       "<div class=\"progress\">\n",
       "  <div class=\"progress-bar\" role=\"progressbar\" style=\"background-color: blue; width: 100%; word-wrap: normal; white-space: nowrap; text-align: center; color: white\" aria-valuenow=\"100\" aria-valuemin=\"0\" aria-valuemax=\"100\">\n",
       "    19 / 19\n",
       "  </div>\n",
       "  <div class=\"progress-bar\" role=\"progressbar\" style=\"background-color: red; width: 0%\" aria-valuenow=\"0\" aria-valuemin=\"0\" aria-valuemax=\"100\"></div>\n",
       "</div>\n"
      ]
     },
     "metadata": {},
     "output_type": "display_data"
    },
    {
     "data": {
      "text/html": [
       "<div>\n",
       "  <span style=\"float: left;\">take at cmd3.sc:4</span>\n",
       "</div>\n"
      ]
     },
     "metadata": {},
     "output_type": "display_data"
    },
    {
     "data": {
      "text/html": [
       "<div class=\"progress\">\n",
       "  <div class=\"progress-bar\" role=\"progressbar\" style=\"background-color: blue; width: 100%; word-wrap: normal; white-space: nowrap; text-align: center; color: white\" aria-valuenow=\"100\" aria-valuemin=\"0\" aria-valuemax=\"100\">\n",
       "    200 / 200\n",
       "  </div>\n",
       "  <div class=\"progress-bar\" role=\"progressbar\" style=\"background-color: red; width: 0%\" aria-valuenow=\"0\" aria-valuemin=\"0\" aria-valuemax=\"100\"></div>\n",
       "</div>\n"
      ]
     },
     "metadata": {},
     "output_type": "display_data"
    },
    {
     "data": {
      "text/html": [
       " <table>\n",
       "                <tr>\n",
       "                 <th>user_id</th><th>track_id</th><th>count</th><th>datediff</th>\n",
       "                </tr>\n",
       "                <tr><td>user_000762</td><td>b5b40605-5a81-46b4-a51e-2b1ec7964c1a</td><td>1</td><td>0</td></tr><tr><td>user_000405</td><td>223f9324-3546-446b-96a2-5f663192dd42</td><td>1</td><td>1143</td></tr><tr><td>user_000651</td><td>d9f41e96-e7c5-401b-ae84-a2032a631409</td><td>19</td><td>1563</td></tr><tr><td>user_000960</td><td>fe1e042b-e443-4f36-97eb-8955ad6fcca0</td><td>32</td><td>1563</td></tr><tr><td>user_000960</td><td>f30a68e0-3598-4b46-b52d-d3ea3b447615</td><td>5</td><td>1563</td></tr><tr><td>user_000612</td><td>b0990649-efb6-469f-96e9-2376d43a8cca</td><td>198</td><td>1563</td></tr><tr><td>user_000651</td><td>3ffed2aa-435d-41f9-a30d-58d28ad2949c</td><td>22</td><td>1563</td></tr><tr><td>user_000612</td><td>459b467a-81f1-4a0d-afdd-1dae11797405</td><td>26</td><td>1563</td></tr><tr><td>user_000310</td><td>29d88e0a-6114-47fd-9764-e25072a721fe</td><td>1</td><td>1563</td></tr><tr><td>user_000651</td><td>d02aa861-ac38-418c-8755-85ed47fbd2a5</td><td>26</td><td>1563</td></tr><tr><td>user_000960</td><td>4c7e938d-c4e2-48bf-83fb-eb6a49b6c0f9</td><td>10</td><td>1563</td></tr><tr><td>user_000021</td><td>681eab7c-75fb-400a-9977-2890b59bd00b</td><td>7</td><td>1563</td></tr><tr><td>user_000724</td><td>22a4c37b-dbac-4651-9be1-b807015bc260</td><td>12</td><td>1563</td></tr><tr><td>user_000724</td><td>4d3dffd2-d8bb-4a4e-a0b7-6895c1009130</td><td>9</td><td>1563</td></tr><tr><td>user_000651</td><td>db44f801-19de-43be-b618-f6b08c335a3d</td><td>6</td><td>1563</td></tr><tr><td>user_000651</td><td>22337e71-0bf8-4fa9-86eb-2f8e7e085474</td><td>31</td><td>1563</td></tr><tr><td>user_000651</td><td>90a05409-544d-4710-9290-bfc7f0bf9863</td><td>26</td><td>1563</td></tr><tr><td>user_000651</td><td>bfba20d5-7995-436e-9016-0cf30898d429</td><td>30</td><td>1563</td></tr><tr><td>user_000960</td><td>bb7770b2-67e2-4919-8cad-227e7dfd951b</td><td>68</td><td>1563</td></tr><tr><td>user_000651</td><td>b1c5184c-70c8-4fac-83e1-bb81af50028b</td><td>8</td><td>1563</td></tr>\n",
       "            </table>\n",
       "        "
      ]
     },
     "metadata": {},
     "output_type": "display_data"
    },
    {
     "data": {
      "text/plain": [
       "\u001b[36mdate_time_df\u001b[39m: \u001b[32mDataFrame\u001b[39m = [user_id: string, track_id: string ... 3 more fields]\n",
       "\u001b[36mdf_agg\u001b[39m: \u001b[32mDataset\u001b[39m[\u001b[32mRow\u001b[39m] = [user_id: string, track_id: string ... 2 more fields]\n",
       "\u001b[36mdf_agg_filtered\u001b[39m: \u001b[32mDataset\u001b[39m[\u001b[32mRow\u001b[39m] = [user_id: string, track_id: string ... 2 more fields]"
      ]
     },
     "execution_count": 13,
     "metadata": {},
     "output_type": "execute_result"
    }
   ],
   "source": [
    "val date_time_df = df.select(\"user_id\", \"track_id\", \"timestamp\")\n",
    "        .groupBy(\"user_id\", \"track_id\")\n",
    "        .agg(count(\"*\").alias(\"count\"), max(\"timestamp\").alias(\"last_heard\")).withColumn(\"max_date\", lit(max_date))\n",
    "val df_agg = date_time_df\n",
    "             .withColumn(\"datediff\", datediff(col(\"max_date\"), col(\"last_heard\")))\n",
    "             .select(\"user_id\", \"track_id\", \"count\", \"datediff\")\n",
    "             .orderBy(\"datediff\")\n",
    "val df_agg_filtered = df_agg.limit(10000)\n",
    "df_agg_filtered.showHTML(20, 200)"
   ]
  },
  {
   "cell_type": "code",
   "execution_count": 14,
   "metadata": {},
   "outputs": [
    {
     "data": {
      "text/html": [
       "<div>\n",
       "  <span style=\"float: left;\">count at cmd13.sc:7</span>\n",
       "</div>\n"
      ]
     },
     "metadata": {},
     "output_type": "display_data"
    },
    {
     "data": {
      "text/html": [
       "<div class=\"progress\">\n",
       "  <div class=\"progress-bar\" role=\"progressbar\" style=\"background-color: blue; width: 100%; word-wrap: normal; white-space: nowrap; text-align: center; color: white\" aria-valuenow=\"100\" aria-valuemin=\"0\" aria-valuemax=\"100\">\n",
       "    19 / 19\n",
       "  </div>\n",
       "  <div class=\"progress-bar\" role=\"progressbar\" style=\"background-color: red; width: 0%\" aria-valuenow=\"0\" aria-valuemin=\"0\" aria-valuemax=\"100\"></div>\n",
       "</div>\n"
      ]
     },
     "metadata": {},
     "output_type": "display_data"
    },
    {
     "data": {
      "text/html": [
       "<div>\n",
       "  <span style=\"float: left;\">count at cmd13.sc:7</span>\n",
       "</div>\n"
      ]
     },
     "metadata": {},
     "output_type": "display_data"
    },
    {
     "data": {
      "text/html": [
       "<div class=\"progress\">\n",
       "  <div class=\"progress-bar\" role=\"progressbar\" style=\"background-color: blue; width: 100%; word-wrap: normal; white-space: nowrap; text-align: center; color: white\" aria-valuenow=\"100\" aria-valuemin=\"0\" aria-valuemax=\"100\">\n",
       "    200 / 200\n",
       "  </div>\n",
       "  <div class=\"progress-bar\" role=\"progressbar\" style=\"background-color: red; width: 0%\" aria-valuenow=\"0\" aria-valuemin=\"0\" aria-valuemax=\"100\"></div>\n",
       "</div>\n"
      ]
     },
     "metadata": {},
     "output_type": "display_data"
    },
    {
     "data": {
      "text/html": [
       "<div>\n",
       "  <span style=\"float: left;\">count at cmd13.sc:7</span>\n",
       "</div>\n"
      ]
     },
     "metadata": {},
     "output_type": "display_data"
    },
    {
     "data": {
      "text/html": [
       "<div class=\"progress\">\n",
       "  <div class=\"progress-bar\" role=\"progressbar\" style=\"background-color: blue; width: 100%; word-wrap: normal; white-space: nowrap; text-align: center; color: white\" aria-valuenow=\"100\" aria-valuemin=\"0\" aria-valuemax=\"100\">\n",
       "    1 / 1\n",
       "  </div>\n",
       "  <div class=\"progress-bar\" role=\"progressbar\" style=\"background-color: red; width: 0%\" aria-valuenow=\"0\" aria-valuemin=\"0\" aria-valuemax=\"100\"></div>\n",
       "</div>\n"
      ]
     },
     "metadata": {},
     "output_type": "display_data"
    },
    {
     "data": {
      "text/plain": [
       "\u001b[36mres13_0\u001b[39m: \u001b[32mDataset\u001b[39m[\u001b[32mRow\u001b[39m] = [user_id: string, track_id: string ... 2 more fields]\n",
       "\u001b[36mcondition\u001b[39m: \u001b[32mColumn\u001b[39m = (datediff > 2000)\n",
       "\u001b[36mtrain\u001b[39m: \u001b[32mDataset\u001b[39m[\u001b[32mRow\u001b[39m] = [user_id: string, track_id: string ... 2 more fields]\n",
       "\u001b[36mtest\u001b[39m: \u001b[32mDataset\u001b[39m[\u001b[32mRow\u001b[39m] = [user_id: string, track_id: string ... 2 more fields]\n",
       "\u001b[36mres13_4\u001b[39m: \u001b[32mLong\u001b[39m = \u001b[32m0L\u001b[39m"
      ]
     },
     "execution_count": 14,
     "metadata": {},
     "output_type": "execute_result"
    }
   ],
   "source": [
    "df_agg_filtered.cache() // recommended to prevent repeating the calculation\n",
    "\n",
    "val condition = col(\"datediff\") > 2000\n",
    "val train = df_agg_filtered.filter(condition)\n",
    "val test = df_agg_filtered.filter(not(condition))"
   ]
  },
  {
   "cell_type": "code",
   "execution_count": 16,
   "metadata": {},
   "outputs": [
    {
     "data": {
      "text/html": [
       "<div>\n",
       "  <span style=\"float: left;\">count at cmd15.sc:1</span>\n",
       "</div>\n"
      ]
     },
     "metadata": {},
     "output_type": "display_data"
    },
    {
     "data": {
      "text/html": [
       "<div class=\"progress\">\n",
       "  <div class=\"progress-bar\" role=\"progressbar\" style=\"background-color: blue; width: 100%; word-wrap: normal; white-space: nowrap; text-align: center; color: white\" aria-valuenow=\"100\" aria-valuemin=\"0\" aria-valuemax=\"100\">\n",
       "    1 / 1\n",
       "  </div>\n",
       "  <div class=\"progress-bar\" role=\"progressbar\" style=\"background-color: red; width: 0%\" aria-valuenow=\"0\" aria-valuemin=\"0\" aria-valuemax=\"100\"></div>\n",
       "</div>\n"
      ]
     },
     "metadata": {},
     "output_type": "display_data"
    },
    {
     "name": "stdout",
     "output_type": "stream",
     "text": [
      "0\n"
     ]
    }
   ],
   "source": [
    "println(train.count)"
   ]
  },
  {
   "cell_type": "markdown",
   "metadata": {},
   "source": [
    "The dataframe is then aggregated by user and track, to get the number of times a user has heard a particular track. "
   ]
  },
  {
   "cell_type": "code",
   "execution_count": null,
   "metadata": {},
   "outputs": [],
   "source": [
    "val Array(training, test) = df_agg_filtered.randomSplit(Array[Double](0.8, 0.2), 18)\n",
    "\n",
    "//revisit to make more efficient\n",
    "\n",
    "val feat = df_agg_filtered.columns.filter(_ .contains(\"id\"))\n",
    "val inds = feat.map { colName =>\n",
    "   new StringIndexer()\n",
    "    .setInputCol(colName)\n",
    "    .setOutputCol(colName.replace(\"id\", \"index\"))\n",
    "    .fit(df_agg_filtered)\n",
    "    .setHandleInvalid(\"keep\")\n",
    "}\n",
    "\n",
    "val va = new VectorAssembler()\n",
    "    .setInputCols(Array(\"count\"))\n",
    "    .setOutputCol(\"count_assembled\")\n",
    "\n",
    "val scaler = new RobustScaler()\n",
    "  .setInputCol(\"count_assembled\")\n",
    "  .setOutputCol(\"rating\")\n",
    "\n",
    "val pipeline = new Pipeline()\n",
    "  .setStages(inds.toArray ++ Array(va, scaler))\n",
    "  \n",
    "val tr_s = pipeline.fit(training).transform(training)\n",
    "val ts_s = pipeline.fit(training).transform(test)\n",
    "\n",
    "val tr_full = tr_s.withColumn(\"rating_as_array\", vector_to_array(tr_s(\"rating\")).getItem(0))\n",
    "val ts_full = ts_s.withColumn(\"rating_as_array\", vector_to_array(ts_s(\"rating\")).getItem(0))\n",
    "\n",
    "val tr_final = tr_full.select(\"user_index\", \"track_index\", \"count\",\"rating_as_array\").orderBy(\"user_index\")\n",
    "val ts_final = ts_full.select(\"user_index\", \"track_index\", \"count\", \"rating_as_array\").orderBy(\"user_index\")"
   ]
  },
  {
   "cell_type": "code",
   "execution_count": null,
   "metadata": {},
   "outputs": [],
   "source": [
    "tr_final.show()"
   ]
  },
  {
   "cell_type": "code",
   "execution_count": null,
   "metadata": {},
   "outputs": [],
   "source": [
    "val als = new ALS()\n",
    "  .setRank(5)\n",
    "  .setUserCol(\"user_index\")\n",
    "  .setItemCol(\"track_index\")\n",
    "  .setRatingCol(\"rating_as_array\")\n",
    "\n",
    "val model = als.fit(tr_final)\n",
    "model.setColdStartStrategy(\"drop\")\n",
    "\n",
    "val predictions = model.transform(ts_final)\n",
    "\n",
    "val evaluator = new RegressionEvaluator()\n",
    "  .setMetricName(\"rmse\")\n",
    "  .setLabelCol(\"rating_as_array\")\n",
    "  .setPredictionCol(\"prediction\")\n",
    "\n",
    "val rmse = evaluator.evaluate(predictions)\n",
    "println(s\"Root-mean-square error = $rmse\")\n"
   ]
  },
  {
   "cell_type": "code",
   "execution_count": null,
   "metadata": {},
   "outputs": [],
   "source": [
    "val userRecs = model.recommendForAllUsers(10)\n",
    "val movieRecs = model.recommendForAllItems(10)"
   ]
  },
  {
   "cell_type": "code",
   "execution_count": null,
   "metadata": {},
   "outputs": [],
   "source": [
    "val firsttworecs = userRecs\n",
    "    .withColumn(\"columns\",expr(\"struct(recommendations[0] as rec1, recommendations[0] as rec2) as columns\"))\n",
    "    .select(\"user_index\",\"columns.*\")\n",
    "firsttworecs.show()"
   ]
  },
  {
   "cell_type": "code",
   "execution_count": null,
   "metadata": {},
   "outputs": [],
   "source": [
    "val firstRec = firsttworecs.select(\"user_index\", \"rec1.*\")\n",
    "firstRec.show()"
   ]
  },
  {
   "cell_type": "code",
   "execution_count": null,
   "metadata": {},
   "outputs": [],
   "source": [
    "// TODO make more efficient \n",
    "import spark.implicits._\n",
    "val users = df_agg_filtered.select(\"user_id\").map(_.getString(0)).distinct().collectAsList().toArray().map(_.asInstanceOf[String])\n",
    "val usermap = new IndexToString()\n",
    "    .setInputCol(\"user_index\")\n",
    "    .setOutputCol(\"user_id\")\n",
    "    .setLabels(users)\n",
    "\n",
    "val userout = usermap.transform(firstRec)\n",
    "\n",
    "val tracks = df_agg_filtered.select(\"track_id\").map(_.getString(0)).distinct().collectAsList().toArray().map(_.asInstanceOf[String])\n",
    "val trackmap = new IndexToString()\n",
    "    .setInputCol(\"track_index\")\n",
    "    .setOutputCol(\"track_id\")\n",
    "    .setLabels(tracks)\n",
    "\n",
    "val trackout = trackmap.transform(userout)"
   ]
  },
  {
   "cell_type": "code",
   "execution_count": null,
   "metadata": {},
   "outputs": [],
   "source": [
    "trackout.show()"
   ]
  },
  {
   "cell_type": "code",
   "execution_count": null,
   "metadata": {},
   "outputs": [],
   "source": [
    "val final_result = trackout.as(\"results\")\n",
    "        .join(df.as(\"in\"), $\"results.track_id\" === $\"in.track_id\")\n",
    "        .select(\"results.user_id\", \"in.track_name\", \"results.rating\").distinct()\n",
    "final_result.show()"
   ]
  }
 ],
 "metadata": {
  "kernelspec": {
   "display_name": "Scala 2.12.11",
   "language": "scala",
   "name": "--force"
  },
  "language_info": {
   "codemirror_mode": "text/x-scala",
   "file_extension": ".scala",
   "mimetype": "text/x-scala",
   "name": "scala",
   "nbconvert_exporter": "script",
   "version": "2.12.11"
  },
  "vscode": {
   "interpreter": {
    "hash": "f49041ffd7c34285ef23254d3966654103f66da5be5824172c5f986a8f982faf"
   }
  },
  "widgets": {
   "application/vnd.jupyter.widget-state+json": {
    "state": {},
    "version_major": 2,
    "version_minor": 0
   }
  }
 },
 "nbformat": 4,
 "nbformat_minor": 4
}
